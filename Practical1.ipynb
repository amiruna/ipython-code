{
 "metadata": {
  "name": "",
  "signature": "sha256:21588ebc2b9aaff87f7d65a77dd2c0f9723c1ed56ac394c449c5b78021157579"
 },
 "nbformat": 3,
 "nbformat_minor": 0,
 "worksheets": [
  {
   "cells": [
    {
     "cell_type": "markdown",
     "metadata": {},
     "source": [
      "## Practical 1: Predicting the Efficiency of Organic Photovoltaics"
     ]
    },
    {
     "cell_type": "code",
     "collapsed": false,
     "input": [
      "%matplotlib inline \n",
      "import pandas as pd\n",
      "import numpy as np\n",
      "import matplotlib.pyplot as plt\n",
      "from __future__ import division\n",
      "from pandas import read_csv\n",
      "import gzip\n",
      "\n",
      "#nice defaults for matplotlib\n",
      "from matplotlib import rcParams\n",
      "\n",
      "dark2_colors = [(0.10588235294117647, 0.6196078431372549, 0.4666666666666667),\n",
      "                (0.8509803921568627, 0.37254901960784315, 0.00784313725490196),\n",
      "                (0.4588235294117647, 0.4392156862745098, 0.7019607843137254),\n",
      "                (0.9058823529411765, 0.1607843137254902, 0.5411764705882353),\n",
      "                (0.4, 0.6509803921568628, 0.11764705882352941),\n",
      "                (0.9019607843137255, 0.6705882352941176, 0.00784313725490196),\n",
      "                (0.6509803921568628, 0.4627450980392157, 0.11372549019607843),\n",
      "                (0.4, 0.4, 0.4)]\n",
      "\n",
      "rcParams['figure.figsize'] = (10, 6)\n",
      "rcParams['figure.dpi'] = 150\n",
      "rcParams['axes.color_cycle'] = dark2_colors\n",
      "rcParams['lines.linewidth'] = 2\n",
      "rcParams['axes.grid'] = True\n",
      "rcParams['axes.facecolor'] = '#eeeeee'\n",
      "rcParams['font.size'] = 14\n",
      "rcParams['patch.edgecolor'] = 'none'"
     ],
     "language": "python",
     "metadata": {},
     "outputs": [],
     "prompt_number": 1
    },
    {
     "cell_type": "markdown",
     "metadata": {},
     "source": [
      "## 1. Data \n",
      "\n",
      "### 1.1. Train data"
     ]
    },
    {
     "cell_type": "code",
     "collapsed": false,
     "input": [
      "train_data = read_csv(gzip.open('train.csv.gz'))"
     ],
     "language": "python",
     "metadata": {},
     "outputs": [],
     "prompt_number": 2
    },
    {
     "cell_type": "code",
     "collapsed": false,
     "input": [
      "train_data.head()"
     ],
     "language": "python",
     "metadata": {},
     "outputs": [
      {
       "html": [
        "<div style=\"max-height:1000px;max-width:1500px;overflow:auto;\">\n",
        "<table border=\"1\" class=\"dataframe\">\n",
        "  <thead>\n",
        "    <tr style=\"text-align: right;\">\n",
        "      <th></th>\n",
        "      <th>smiles</th>\n",
        "      <th>feat_001</th>\n",
        "      <th>feat_002</th>\n",
        "      <th>feat_003</th>\n",
        "      <th>feat_004</th>\n",
        "      <th>feat_005</th>\n",
        "      <th>feat_006</th>\n",
        "      <th>feat_007</th>\n",
        "      <th>feat_008</th>\n",
        "      <th>feat_009</th>\n",
        "      <th>...</th>\n",
        "      <th>feat_248</th>\n",
        "      <th>feat_249</th>\n",
        "      <th>feat_250</th>\n",
        "      <th>feat_251</th>\n",
        "      <th>feat_252</th>\n",
        "      <th>feat_253</th>\n",
        "      <th>feat_254</th>\n",
        "      <th>feat_255</th>\n",
        "      <th>feat_256</th>\n",
        "      <th>gap</th>\n",
        "    </tr>\n",
        "  </thead>\n",
        "  <tbody>\n",
        "    <tr>\n",
        "      <th>0</th>\n",
        "      <td> c1ccc(o1)-c1ccc(s1)-c1cnc(-c2scc3[se]ccc23)c2n...</td>\n",
        "      <td> 0</td>\n",
        "      <td> 0</td>\n",
        "      <td> 0</td>\n",
        "      <td> 0</td>\n",
        "      <td> 1</td>\n",
        "      <td> 0</td>\n",
        "      <td> 1</td>\n",
        "      <td> 0</td>\n",
        "      <td> 0</td>\n",
        "      <td>...</td>\n",
        "      <td> 1</td>\n",
        "      <td> 0</td>\n",
        "      <td> 0</td>\n",
        "      <td> 0</td>\n",
        "      <td> 0</td>\n",
        "      <td> 0</td>\n",
        "      <td> 0</td>\n",
        "      <td> 0</td>\n",
        "      <td> 0</td>\n",
        "      <td> 1.19</td>\n",
        "    </tr>\n",
        "    <tr>\n",
        "      <th>1</th>\n",
        "      <td> C1=CC=C(C1)c1cc2ncc3c4[SiH2]C=Cc4ncc3c2c2=C[Si...</td>\n",
        "      <td> 1</td>\n",
        "      <td> 0</td>\n",
        "      <td> 0</td>\n",
        "      <td> 0</td>\n",
        "      <td> 1</td>\n",
        "      <td> 0</td>\n",
        "      <td> 1</td>\n",
        "      <td> 0</td>\n",
        "      <td> 0</td>\n",
        "      <td>...</td>\n",
        "      <td> 1</td>\n",
        "      <td> 0</td>\n",
        "      <td> 0</td>\n",
        "      <td> 1</td>\n",
        "      <td> 0</td>\n",
        "      <td> 0</td>\n",
        "      <td> 0</td>\n",
        "      <td> 0</td>\n",
        "      <td> 0</td>\n",
        "      <td> 1.60</td>\n",
        "    </tr>\n",
        "    <tr>\n",
        "      <th>2</th>\n",
        "      <td> [nH]1c-2c([SiH2]c3cc(-c4scc5C=CCc45)c4nsnc4c-2...</td>\n",
        "      <td> 1</td>\n",
        "      <td> 0</td>\n",
        "      <td> 0</td>\n",
        "      <td> 0</td>\n",
        "      <td> 1</td>\n",
        "      <td> 1</td>\n",
        "      <td> 1</td>\n",
        "      <td> 0</td>\n",
        "      <td> 0</td>\n",
        "      <td>...</td>\n",
        "      <td> 1</td>\n",
        "      <td> 0</td>\n",
        "      <td> 0</td>\n",
        "      <td> 0</td>\n",
        "      <td> 1</td>\n",
        "      <td> 0</td>\n",
        "      <td> 0</td>\n",
        "      <td> 0</td>\n",
        "      <td> 0</td>\n",
        "      <td> 1.49</td>\n",
        "    </tr>\n",
        "    <tr>\n",
        "      <th>3</th>\n",
        "      <td> [nH]1c2-c3occc3Cc2c2c1cc(-c1cccc3=C[SiH2]C=c13...</td>\n",
        "      <td> 1</td>\n",
        "      <td> 0</td>\n",
        "      <td> 0</td>\n",
        "      <td> 0</td>\n",
        "      <td> 1</td>\n",
        "      <td> 1</td>\n",
        "      <td> 1</td>\n",
        "      <td> 0</td>\n",
        "      <td> 0</td>\n",
        "      <td>...</td>\n",
        "      <td> 1</td>\n",
        "      <td> 0</td>\n",
        "      <td> 0</td>\n",
        "      <td> 0</td>\n",
        "      <td> 1</td>\n",
        "      <td> 0</td>\n",
        "      <td> 0</td>\n",
        "      <td> 0</td>\n",
        "      <td> 0</td>\n",
        "      <td> 1.36</td>\n",
        "    </tr>\n",
        "    <tr>\n",
        "      <th>4</th>\n",
        "      <td>    c1cnc2c3oc4cc(-c5ncncn5)c5nsnc5c4c3c3cocc3c2c1</td>\n",
        "      <td> 0</td>\n",
        "      <td> 0</td>\n",
        "      <td> 0</td>\n",
        "      <td> 0</td>\n",
        "      <td> 1</td>\n",
        "      <td> 0</td>\n",
        "      <td> 1</td>\n",
        "      <td> 0</td>\n",
        "      <td> 0</td>\n",
        "      <td>...</td>\n",
        "      <td> 1</td>\n",
        "      <td> 0</td>\n",
        "      <td> 0</td>\n",
        "      <td> 0</td>\n",
        "      <td> 0</td>\n",
        "      <td> 0</td>\n",
        "      <td> 0</td>\n",
        "      <td> 0</td>\n",
        "      <td> 0</td>\n",
        "      <td> 1.98</td>\n",
        "    </tr>\n",
        "  </tbody>\n",
        "</table>\n",
        "<p>5 rows \u00d7 258 columns</p>\n",
        "</div>"
       ],
       "metadata": {},
       "output_type": "pyout",
       "prompt_number": 3,
       "text": [
        "                                              smiles  feat_001  feat_002  \\\n",
        "0  c1ccc(o1)-c1ccc(s1)-c1cnc(-c2scc3[se]ccc23)c2n...         0         0   \n",
        "1  C1=CC=C(C1)c1cc2ncc3c4[SiH2]C=Cc4ncc3c2c2=C[Si...         1         0   \n",
        "2  [nH]1c-2c([SiH2]c3cc(-c4scc5C=CCc45)c4nsnc4c-2...         1         0   \n",
        "3  [nH]1c2-c3occc3Cc2c2c1cc(-c1cccc3=C[SiH2]C=c13...         1         0   \n",
        "4     c1cnc2c3oc4cc(-c5ncncn5)c5nsnc5c4c3c3cocc3c2c1         0         0   \n",
        "\n",
        "   feat_003  feat_004  feat_005  feat_006  feat_007  feat_008  feat_009  \\\n",
        "0         0         0         1         0         1         0         0   \n",
        "1         0         0         1         0         1         0         0   \n",
        "2         0         0         1         1         1         0         0   \n",
        "3         0         0         1         1         1         0         0   \n",
        "4         0         0         1         0         1         0         0   \n",
        "\n",
        "     ...     feat_248  feat_249  feat_250  feat_251  feat_252  feat_253  \\\n",
        "0    ...            1         0         0         0         0         0   \n",
        "1    ...            1         0         0         1         0         0   \n",
        "2    ...            1         0         0         0         1         0   \n",
        "3    ...            1         0         0         0         1         0   \n",
        "4    ...            1         0         0         0         0         0   \n",
        "\n",
        "   feat_254  feat_255  feat_256   gap  \n",
        "0         0         0         0  1.19  \n",
        "1         0         0         0  1.60  \n",
        "2         0         0         0  1.49  \n",
        "3         0         0         0  1.36  \n",
        "4         0         0         0  1.98  \n",
        "\n",
        "[5 rows x 258 columns]"
       ]
      }
     ],
     "prompt_number": 3
    },
    {
     "cell_type": "code",
     "collapsed": false,
     "input": [
      "train_data.shape"
     ],
     "language": "python",
     "metadata": {},
     "outputs": [
      {
       "metadata": {},
       "output_type": "pyout",
       "prompt_number": 4,
       "text": [
        "(1000000, 258)"
       ]
      }
     ],
     "prompt_number": 4
    },
    {
     "cell_type": "markdown",
     "metadata": {},
     "source": [
      "### 1.2. Test data"
     ]
    },
    {
     "cell_type": "code",
     "collapsed": false,
     "input": [
      "test_data = read_csv(gzip.open('test.csv.gz'))"
     ],
     "language": "python",
     "metadata": {},
     "outputs": [],
     "prompt_number": 5
    },
    {
     "cell_type": "code",
     "collapsed": false,
     "input": [
      "test_data.head()"
     ],
     "language": "python",
     "metadata": {},
     "outputs": [
      {
       "html": [
        "<div style=\"max-height:1000px;max-width:1500px;overflow:auto;\">\n",
        "<table border=\"1\" class=\"dataframe\">\n",
        "  <thead>\n",
        "    <tr style=\"text-align: right;\">\n",
        "      <th></th>\n",
        "      <th>Id</th>\n",
        "      <th>smiles</th>\n",
        "      <th>feat_001</th>\n",
        "      <th>feat_002</th>\n",
        "      <th>feat_003</th>\n",
        "      <th>feat_004</th>\n",
        "      <th>feat_005</th>\n",
        "      <th>feat_006</th>\n",
        "      <th>feat_007</th>\n",
        "      <th>feat_008</th>\n",
        "      <th>...</th>\n",
        "      <th>feat_247</th>\n",
        "      <th>feat_248</th>\n",
        "      <th>feat_249</th>\n",
        "      <th>feat_250</th>\n",
        "      <th>feat_251</th>\n",
        "      <th>feat_252</th>\n",
        "      <th>feat_253</th>\n",
        "      <th>feat_254</th>\n",
        "      <th>feat_255</th>\n",
        "      <th>feat_256</th>\n",
        "    </tr>\n",
        "  </thead>\n",
        "  <tbody>\n",
        "    <tr>\n",
        "      <th>0</th>\n",
        "      <td> 1</td>\n",
        "      <td> c1sc(-c2cnc3c(c2)c2nsnc2c2cc4cccnc4cc32)c2cc[n...</td>\n",
        "      <td> 0</td>\n",
        "      <td> 0</td>\n",
        "      <td> 0</td>\n",
        "      <td> 0</td>\n",
        "      <td> 1</td>\n",
        "      <td> 1</td>\n",
        "      <td> 1</td>\n",
        "      <td> 0</td>\n",
        "      <td>...</td>\n",
        "      <td> 0</td>\n",
        "      <td> 1</td>\n",
        "      <td> 0</td>\n",
        "      <td> 0</td>\n",
        "      <td> 0</td>\n",
        "      <td> 0</td>\n",
        "      <td> 0</td>\n",
        "      <td> 0</td>\n",
        "      <td> 0</td>\n",
        "      <td> 0</td>\n",
        "    </tr>\n",
        "    <tr>\n",
        "      <th>1</th>\n",
        "      <td> 2</td>\n",
        "      <td>        [nH]1cccc1-c1cc2c3nsnc3c3c4sccc4[nH]c3c2s1</td>\n",
        "      <td> 0</td>\n",
        "      <td> 0</td>\n",
        "      <td> 0</td>\n",
        "      <td> 0</td>\n",
        "      <td> 1</td>\n",
        "      <td> 1</td>\n",
        "      <td> 1</td>\n",
        "      <td> 0</td>\n",
        "      <td>...</td>\n",
        "      <td> 0</td>\n",
        "      <td> 1</td>\n",
        "      <td> 0</td>\n",
        "      <td> 0</td>\n",
        "      <td> 0</td>\n",
        "      <td> 0</td>\n",
        "      <td> 0</td>\n",
        "      <td> 0</td>\n",
        "      <td> 0</td>\n",
        "      <td> 0</td>\n",
        "    </tr>\n",
        "    <tr>\n",
        "      <th>2</th>\n",
        "      <td> 3</td>\n",
        "      <td> [nH]1c2cc(-c3ccc[se]3)c3nsnc3c2c2c3cscc3c3ccc4...</td>\n",
        "      <td> 1</td>\n",
        "      <td> 0</td>\n",
        "      <td> 0</td>\n",
        "      <td> 0</td>\n",
        "      <td> 1</td>\n",
        "      <td> 1</td>\n",
        "      <td> 1</td>\n",
        "      <td> 0</td>\n",
        "      <td>...</td>\n",
        "      <td> 0</td>\n",
        "      <td> 1</td>\n",
        "      <td> 0</td>\n",
        "      <td> 0</td>\n",
        "      <td> 0</td>\n",
        "      <td> 0</td>\n",
        "      <td> 0</td>\n",
        "      <td> 0</td>\n",
        "      <td> 0</td>\n",
        "      <td> 0</td>\n",
        "    </tr>\n",
        "    <tr>\n",
        "      <th>3</th>\n",
        "      <td> 4</td>\n",
        "      <td> [nH]1c(cc2cnc3c(c12)c1=C[SiH2]C=c1c1ccc2=CCC=c...</td>\n",
        "      <td> 1</td>\n",
        "      <td> 0</td>\n",
        "      <td> 0</td>\n",
        "      <td> 0</td>\n",
        "      <td> 1</td>\n",
        "      <td> 1</td>\n",
        "      <td> 1</td>\n",
        "      <td> 0</td>\n",
        "      <td>...</td>\n",
        "      <td> 0</td>\n",
        "      <td> 1</td>\n",
        "      <td> 0</td>\n",
        "      <td> 0</td>\n",
        "      <td> 0</td>\n",
        "      <td> 0</td>\n",
        "      <td> 0</td>\n",
        "      <td> 0</td>\n",
        "      <td> 0</td>\n",
        "      <td> 0</td>\n",
        "    </tr>\n",
        "    <tr>\n",
        "      <th>4</th>\n",
        "      <td> 5</td>\n",
        "      <td> c1sc(-c2sc(-c3sc(-c4scc5[se]ccc45)c4ccoc34)c3c...</td>\n",
        "      <td> 0</td>\n",
        "      <td> 0</td>\n",
        "      <td> 0</td>\n",
        "      <td> 0</td>\n",
        "      <td> 1</td>\n",
        "      <td> 0</td>\n",
        "      <td> 1</td>\n",
        "      <td> 0</td>\n",
        "      <td>...</td>\n",
        "      <td> 0</td>\n",
        "      <td> 1</td>\n",
        "      <td> 0</td>\n",
        "      <td> 0</td>\n",
        "      <td> 0</td>\n",
        "      <td> 0</td>\n",
        "      <td> 0</td>\n",
        "      <td> 0</td>\n",
        "      <td> 0</td>\n",
        "      <td> 0</td>\n",
        "    </tr>\n",
        "  </tbody>\n",
        "</table>\n",
        "<p>5 rows \u00d7 258 columns</p>\n",
        "</div>"
       ],
       "metadata": {},
       "output_type": "pyout",
       "prompt_number": 6,
       "text": [
        "   Id                                             smiles  feat_001  feat_002  \\\n",
        "0   1  c1sc(-c2cnc3c(c2)c2nsnc2c2cc4cccnc4cc32)c2cc[n...         0         0   \n",
        "1   2         [nH]1cccc1-c1cc2c3nsnc3c3c4sccc4[nH]c3c2s1         0         0   \n",
        "2   3  [nH]1c2cc(-c3ccc[se]3)c3nsnc3c2c2c3cscc3c3ccc4...         1         0   \n",
        "3   4  [nH]1c(cc2cnc3c(c12)c1=C[SiH2]C=c1c1ccc2=CCC=c...         1         0   \n",
        "4   5  c1sc(-c2sc(-c3sc(-c4scc5[se]ccc45)c4ccoc34)c3c...         0         0   \n",
        "\n",
        "   feat_003  feat_004  feat_005  feat_006  feat_007  feat_008    ...     \\\n",
        "0         0         0         1         1         1         0    ...      \n",
        "1         0         0         1         1         1         0    ...      \n",
        "2         0         0         1         1         1         0    ...      \n",
        "3         0         0         1         1         1         0    ...      \n",
        "4         0         0         1         0         1         0    ...      \n",
        "\n",
        "   feat_247  feat_248  feat_249  feat_250  feat_251  feat_252  feat_253  \\\n",
        "0         0         1         0         0         0         0         0   \n",
        "1         0         1         0         0         0         0         0   \n",
        "2         0         1         0         0         0         0         0   \n",
        "3         0         1         0         0         0         0         0   \n",
        "4         0         1         0         0         0         0         0   \n",
        "\n",
        "   feat_254  feat_255  feat_256  \n",
        "0         0         0         0  \n",
        "1         0         0         0  \n",
        "2         0         0         0  \n",
        "3         0         0         0  \n",
        "4         0         0         0  \n",
        "\n",
        "[5 rows x 258 columns]"
       ]
      }
     ],
     "prompt_number": 6
    },
    {
     "cell_type": "code",
     "collapsed": false,
     "input": [
      "test_data.shape"
     ],
     "language": "python",
     "metadata": {},
     "outputs": [
      {
       "metadata": {},
       "output_type": "pyout",
       "prompt_number": 7,
       "text": [
        "(824230, 258)"
       ]
      }
     ],
     "prompt_number": 7
    },
    {
     "cell_type": "markdown",
     "metadata": {},
     "source": [
      "### 1.3. Example data"
     ]
    },
    {
     "cell_type": "code",
     "collapsed": false,
     "input": [
      "example_data = read_csv('example_mean.csv')"
     ],
     "language": "python",
     "metadata": {},
     "outputs": [],
     "prompt_number": 8
    },
    {
     "cell_type": "code",
     "collapsed": false,
     "input": [
      "example_data.head()"
     ],
     "language": "python",
     "metadata": {},
     "outputs": [
      {
       "html": [
        "<div style=\"max-height:1000px;max-width:1500px;overflow:auto;\">\n",
        "<table border=\"1\" class=\"dataframe\">\n",
        "  <thead>\n",
        "    <tr style=\"text-align: right;\">\n",
        "      <th></th>\n",
        "      <th>Id</th>\n",
        "      <th>Prediction</th>\n",
        "    </tr>\n",
        "  </thead>\n",
        "  <tbody>\n",
        "    <tr>\n",
        "      <th>0</th>\n",
        "      <td> 1</td>\n",
        "      <td> 1.915726</td>\n",
        "    </tr>\n",
        "    <tr>\n",
        "      <th>1</th>\n",
        "      <td> 2</td>\n",
        "      <td> 1.915726</td>\n",
        "    </tr>\n",
        "    <tr>\n",
        "      <th>2</th>\n",
        "      <td> 3</td>\n",
        "      <td> 1.915726</td>\n",
        "    </tr>\n",
        "    <tr>\n",
        "      <th>3</th>\n",
        "      <td> 4</td>\n",
        "      <td> 1.915726</td>\n",
        "    </tr>\n",
        "    <tr>\n",
        "      <th>4</th>\n",
        "      <td> 5</td>\n",
        "      <td> 1.915726</td>\n",
        "    </tr>\n",
        "  </tbody>\n",
        "</table>\n",
        "</div>"
       ],
       "metadata": {},
       "output_type": "pyout",
       "prompt_number": 9,
       "text": [
        "   Id  Prediction\n",
        "0   1    1.915726\n",
        "1   2    1.915726\n",
        "2   3    1.915726\n",
        "3   4    1.915726\n",
        "4   5    1.915726"
       ]
      }
     ],
     "prompt_number": 9
    },
    {
     "cell_type": "markdown",
     "metadata": {},
     "source": [
      "## 2. Feature selection"
     ]
    },
    {
     "cell_type": "code",
     "collapsed": false,
     "input": [
      "train_data.columns[-1]"
     ],
     "language": "python",
     "metadata": {},
     "outputs": [
      {
       "metadata": {},
       "output_type": "pyout",
       "prompt_number": 10,
       "text": [
        "'gap'"
       ]
      }
     ],
     "prompt_number": 10
    },
    {
     "cell_type": "code",
     "collapsed": false,
     "input": [
      "train_data['gap']"
     ],
     "language": "python",
     "metadata": {},
     "outputs": [
      {
       "metadata": {},
       "output_type": "pyout",
       "prompt_number": 11,
       "text": [
        "0     1.19\n",
        "1     1.60\n",
        "2     1.49\n",
        "3     1.36\n",
        "4     1.98\n",
        "5     1.81\n",
        "6     2.91\n",
        "7     2.17\n",
        "8     2.19\n",
        "9     1.71\n",
        "10    2.08\n",
        "11    1.42\n",
        "12    2.96\n",
        "13    2.59\n",
        "14    1.14\n",
        "...\n",
        "999985    2.24\n",
        "999986    2.27\n",
        "999987    1.60\n",
        "999988    1.42\n",
        "999989    1.12\n",
        "999990    1.75\n",
        "999991    1.87\n",
        "999992    2.29\n",
        "999993    2.38\n",
        "999994    2.30\n",
        "999995    1.45\n",
        "999996    1.21\n",
        "999997    2.03\n",
        "999998    1.74\n",
        "999999    1.72\n",
        "Name: gap, Length: 1000000, dtype: float64"
       ]
      }
     ],
     "prompt_number": 11
    },
    {
     "cell_type": "code",
     "collapsed": false,
     "input": [
      "colnames = train_data.columns.values[1:-1]"
     ],
     "language": "python",
     "metadata": {},
     "outputs": [],
     "prompt_number": 12
    },
    {
     "cell_type": "code",
     "collapsed": false,
     "input": [
      "#calculate the mean for each column\n",
      "counts = np.array([np.sum(train_data[colnames[i]]) for i in range(len(colnames))])\n",
      "means = counts/1000000\n",
      "means"
     ],
     "language": "python",
     "metadata": {},
     "outputs": [
      {
       "metadata": {},
       "output_type": "pyout",
       "prompt_number": 13,
       "text": [
        "array([  6.42013000e-01,   0.00000000e+00,   0.00000000e+00,\n",
        "         0.00000000e+00,   9.99987000e-01,   4.77650000e-01,\n",
        "         9.75860000e-01,   0.00000000e+00,   0.00000000e+00,\n",
        "         0.00000000e+00,   0.00000000e+00,   0.00000000e+00,\n",
        "         0.00000000e+00,   0.00000000e+00,   0.00000000e+00,\n",
        "         0.00000000e+00,   0.00000000e+00,   0.00000000e+00,\n",
        "         0.00000000e+00,   0.00000000e+00,   0.00000000e+00,\n",
        "         0.00000000e+00,   0.00000000e+00,   0.00000000e+00,\n",
        "         3.85474000e-01,   0.00000000e+00,   0.00000000e+00,\n",
        "         0.00000000e+00,   0.00000000e+00,   0.00000000e+00,\n",
        "         0.00000000e+00,   0.00000000e+00,   0.00000000e+00,\n",
        "         0.00000000e+00,   0.00000000e+00,   0.00000000e+00,\n",
        "         3.58453000e-01,   0.00000000e+00,   0.00000000e+00,\n",
        "         0.00000000e+00,   0.00000000e+00,   0.00000000e+00,\n",
        "         0.00000000e+00,   5.03100000e-03,   0.00000000e+00,\n",
        "         0.00000000e+00,   0.00000000e+00,   0.00000000e+00,\n",
        "         0.00000000e+00,   0.00000000e+00,   0.00000000e+00,\n",
        "         0.00000000e+00,   0.00000000e+00,   0.00000000e+00,\n",
        "         0.00000000e+00,   0.00000000e+00,   0.00000000e+00,\n",
        "         0.00000000e+00,   0.00000000e+00,   0.00000000e+00,\n",
        "         0.00000000e+00,   0.00000000e+00,   0.00000000e+00,\n",
        "         0.00000000e+00,   0.00000000e+00,   0.00000000e+00,\n",
        "         0.00000000e+00,   6.21252000e-01,   3.55291000e-01,\n",
        "         0.00000000e+00,   0.00000000e+00,   7.70810000e-01,\n",
        "         0.00000000e+00,   0.00000000e+00,   0.00000000e+00,\n",
        "         0.00000000e+00,   0.00000000e+00,   0.00000000e+00,\n",
        "         0.00000000e+00,   0.00000000e+00,   0.00000000e+00,\n",
        "         0.00000000e+00,   0.00000000e+00,   0.00000000e+00,\n",
        "         0.00000000e+00,   0.00000000e+00,   1.39328000e-01,\n",
        "         0.00000000e+00,   0.00000000e+00,   8.00323000e-01,\n",
        "         0.00000000e+00,   0.00000000e+00,   0.00000000e+00,\n",
        "         0.00000000e+00,   0.00000000e+00,   0.00000000e+00,\n",
        "         0.00000000e+00,   0.00000000e+00,   0.00000000e+00,\n",
        "         0.00000000e+00,   0.00000000e+00,   2.90511000e-01,\n",
        "         0.00000000e+00,   0.00000000e+00,   0.00000000e+00,\n",
        "         0.00000000e+00,   0.00000000e+00,   0.00000000e+00,\n",
        "         0.00000000e+00,   0.00000000e+00,   0.00000000e+00,\n",
        "         0.00000000e+00,   0.00000000e+00,   0.00000000e+00,\n",
        "         0.00000000e+00,   0.00000000e+00,   0.00000000e+00,\n",
        "         0.00000000e+00,   2.92201000e-01,   0.00000000e+00,\n",
        "         0.00000000e+00,   0.00000000e+00,   3.01730000e-01,\n",
        "         0.00000000e+00,   0.00000000e+00,   9.33919000e-01,\n",
        "         0.00000000e+00,   0.00000000e+00,   0.00000000e+00,\n",
        "         0.00000000e+00,   0.00000000e+00,   9.75816000e-01,\n",
        "         0.00000000e+00,   0.00000000e+00,   0.00000000e+00,\n",
        "         0.00000000e+00,   0.00000000e+00,   0.00000000e+00,\n",
        "         0.00000000e+00,   0.00000000e+00,   0.00000000e+00,\n",
        "         0.00000000e+00,   0.00000000e+00,   0.00000000e+00,\n",
        "         0.00000000e+00,   0.00000000e+00,   0.00000000e+00,\n",
        "         0.00000000e+00,   0.00000000e+00,   0.00000000e+00,\n",
        "         0.00000000e+00,   0.00000000e+00,   0.00000000e+00,\n",
        "         0.00000000e+00,   0.00000000e+00,   0.00000000e+00,\n",
        "         0.00000000e+00,   0.00000000e+00,   0.00000000e+00,\n",
        "         0.00000000e+00,   0.00000000e+00,   0.00000000e+00,\n",
        "         0.00000000e+00,   0.00000000e+00,   0.00000000e+00,\n",
        "         0.00000000e+00,   0.00000000e+00,   0.00000000e+00,\n",
        "         0.00000000e+00,   0.00000000e+00,   0.00000000e+00,\n",
        "         0.00000000e+00,   4.36831000e-01,   0.00000000e+00,\n",
        "         0.00000000e+00,   3.49470000e-02,   0.00000000e+00,\n",
        "         0.00000000e+00,   0.00000000e+00,   0.00000000e+00,\n",
        "         0.00000000e+00,   0.00000000e+00,   0.00000000e+00,\n",
        "         0.00000000e+00,   0.00000000e+00,   0.00000000e+00,\n",
        "         1.55527000e-01,   0.00000000e+00,   0.00000000e+00,\n",
        "         0.00000000e+00,   0.00000000e+00,   0.00000000e+00,\n",
        "         0.00000000e+00,   0.00000000e+00,   0.00000000e+00,\n",
        "         1.53370000e-02,   0.00000000e+00,   0.00000000e+00,\n",
        "         7.91000000e-04,   7.91000000e-04,   0.00000000e+00,\n",
        "         0.00000000e+00,   0.00000000e+00,   0.00000000e+00,\n",
        "         0.00000000e+00,   0.00000000e+00,   0.00000000e+00,\n",
        "         4.00610000e-02,   0.00000000e+00,   0.00000000e+00,\n",
        "         0.00000000e+00,   0.00000000e+00,   0.00000000e+00,\n",
        "         0.00000000e+00,   0.00000000e+00,   0.00000000e+00,\n",
        "         0.00000000e+00,   2.90511000e-01,   0.00000000e+00,\n",
        "         0.00000000e+00,   0.00000000e+00,   0.00000000e+00,\n",
        "         0.00000000e+00,   0.00000000e+00,   3.34526000e-01,\n",
        "         9.96001000e-01,   0.00000000e+00,   0.00000000e+00,\n",
        "         0.00000000e+00,   0.00000000e+00,   0.00000000e+00,\n",
        "         0.00000000e+00,   0.00000000e+00,   0.00000000e+00,\n",
        "         0.00000000e+00,   0.00000000e+00,   0.00000000e+00,\n",
        "         0.00000000e+00,   0.00000000e+00,   0.00000000e+00,\n",
        "         0.00000000e+00,   0.00000000e+00,   4.77650000e-01,\n",
        "         0.00000000e+00,   0.00000000e+00,   0.00000000e+00,\n",
        "         0.00000000e+00,   9.17407000e-01,   0.00000000e+00,\n",
        "         0.00000000e+00,   2.18787000e-01,   3.73090000e-02,\n",
        "         0.00000000e+00,   0.00000000e+00,   0.00000000e+00,\n",
        "         0.00000000e+00])"
       ]
      }
     ],
     "prompt_number": 13
    },
    {
     "cell_type": "code",
     "collapsed": false,
     "input": [
      "np.count_nonzero(means)"
     ],
     "language": "python",
     "metadata": {},
     "outputs": [
      {
       "metadata": {},
       "output_type": "pyout",
       "prompt_number": 14,
       "text": [
        "31"
       ]
      }
     ],
     "prompt_number": 14
    },
    {
     "cell_type": "code",
     "collapsed": false,
     "input": [
      "# names of columns with non-zero means\n",
      "nonzero_colnames = colnames[np.nonzero(means)]\n",
      "nonzero_colnames"
     ],
     "language": "python",
     "metadata": {},
     "outputs": [
      {
       "metadata": {},
       "output_type": "pyout",
       "prompt_number": 15,
       "text": [
        "array(['feat_001', 'feat_005', 'feat_006', 'feat_007', 'feat_025',\n",
        "       'feat_037', 'feat_044', 'feat_068', 'feat_069', 'feat_072',\n",
        "       'feat_087', 'feat_090', 'feat_102', 'feat_119', 'feat_123',\n",
        "       'feat_126', 'feat_132', 'feat_173', 'feat_176', 'feat_187',\n",
        "       'feat_196', 'feat_199', 'feat_200', 'feat_208', 'feat_218',\n",
        "       'feat_225', 'feat_226', 'feat_243', 'feat_248', 'feat_251',\n",
        "       'feat_252'], dtype=object)"
       ]
      }
     ],
     "prompt_number": 15
    },
    {
     "cell_type": "code",
     "collapsed": false,
     "input": [
      "# means of columns that are nonzero\n",
      "nonzero_means = means[np.nonzero(means)]\n",
      "nonzero_means"
     ],
     "language": "python",
     "metadata": {},
     "outputs": [
      {
       "metadata": {},
       "output_type": "pyout",
       "prompt_number": 16,
       "text": [
        "array([  6.42013000e-01,   9.99987000e-01,   4.77650000e-01,\n",
        "         9.75860000e-01,   3.85474000e-01,   3.58453000e-01,\n",
        "         5.03100000e-03,   6.21252000e-01,   3.55291000e-01,\n",
        "         7.70810000e-01,   1.39328000e-01,   8.00323000e-01,\n",
        "         2.90511000e-01,   2.92201000e-01,   3.01730000e-01,\n",
        "         9.33919000e-01,   9.75816000e-01,   4.36831000e-01,\n",
        "         3.49470000e-02,   1.55527000e-01,   1.53370000e-02,\n",
        "         7.91000000e-04,   7.91000000e-04,   4.00610000e-02,\n",
        "         2.90511000e-01,   3.34526000e-01,   9.96001000e-01,\n",
        "         4.77650000e-01,   9.17407000e-01,   2.18787000e-01,\n",
        "         3.73090000e-02])"
       ]
      }
     ],
     "prompt_number": 16
    },
    {
     "cell_type": "code",
     "collapsed": false,
     "input": [
      "#means below 0.9 column names and above 0.1\n",
      "idx = [i for i in range(len(nonzero_means)) if (nonzero_means[i] < 0.90 and nonzero_means[i] > 0.10)]\n",
      "nonzero_colnames[idx]"
     ],
     "language": "python",
     "metadata": {},
     "outputs": [
      {
       "metadata": {},
       "output_type": "pyout",
       "prompt_number": 17,
       "text": [
        "array(['feat_001', 'feat_006', 'feat_025', 'feat_037', 'feat_068',\n",
        "       'feat_069', 'feat_072', 'feat_087', 'feat_090', 'feat_102',\n",
        "       'feat_119', 'feat_123', 'feat_173', 'feat_187', 'feat_218',\n",
        "       'feat_225', 'feat_243', 'feat_251'], dtype=object)"
       ]
      }
     ],
     "prompt_number": 17
    },
    {
     "cell_type": "code",
     "collapsed": false,
     "input": [
      "len(nonzero_colnames[idx])"
     ],
     "language": "python",
     "metadata": {},
     "outputs": [
      {
       "metadata": {},
       "output_type": "pyout",
       "prompt_number": 18,
       "text": [
        "18"
       ]
      }
     ],
     "prompt_number": 18
    },
    {
     "cell_type": "code",
     "collapsed": false,
     "input": [
      "# function that outputs columns names with non-zero means \n",
      "def select_features(df, dtype = 'train', low = 0, high = 1):\n",
      "    \n",
      "    # compute means\n",
      "    if dtype == 'test':\n",
      "        colnames = df.columns.values[2:]\n",
      "    else:\n",
      "        colnames = df.columns.values[1:-1]\n",
      "    means = np.array([np.sum(df[colnames[i]]) for i in range(len(colnames))])/len(df)\n",
      "    idx = [i for i in range(len(means)) if (means[i] < high and means[i] > low)]\n",
      "\n",
      "    # column names for the selected features\n",
      "    selected_features = colnames[idx]\n",
      "    # means for the selected features\n",
      "    feature_means = means[idx]\n",
      "    \n",
      "    return {'features':selected_features, 'means':feature_means}\n",
      "    "
     ],
     "language": "python",
     "metadata": {},
     "outputs": [],
     "prompt_number": 19
    },
    {
     "cell_type": "code",
     "collapsed": false,
     "input": [
      "select_features(train_data)"
     ],
     "language": "python",
     "metadata": {},
     "outputs": [
      {
       "metadata": {},
       "output_type": "pyout",
       "prompt_number": 20,
       "text": [
        "{'features': array(['feat_001', 'feat_005', 'feat_006', 'feat_007', 'feat_025',\n",
        "        'feat_037', 'feat_044', 'feat_068', 'feat_069', 'feat_072',\n",
        "        'feat_087', 'feat_090', 'feat_102', 'feat_119', 'feat_123',\n",
        "        'feat_126', 'feat_132', 'feat_173', 'feat_176', 'feat_187',\n",
        "        'feat_196', 'feat_199', 'feat_200', 'feat_208', 'feat_218',\n",
        "        'feat_225', 'feat_226', 'feat_243', 'feat_248', 'feat_251',\n",
        "        'feat_252'], dtype=object),\n",
        " 'means': array([  6.42013000e-01,   9.99987000e-01,   4.77650000e-01,\n",
        "          9.75860000e-01,   3.85474000e-01,   3.58453000e-01,\n",
        "          5.03100000e-03,   6.21252000e-01,   3.55291000e-01,\n",
        "          7.70810000e-01,   1.39328000e-01,   8.00323000e-01,\n",
        "          2.90511000e-01,   2.92201000e-01,   3.01730000e-01,\n",
        "          9.33919000e-01,   9.75816000e-01,   4.36831000e-01,\n",
        "          3.49470000e-02,   1.55527000e-01,   1.53370000e-02,\n",
        "          7.91000000e-04,   7.91000000e-04,   4.00610000e-02,\n",
        "          2.90511000e-01,   3.34526000e-01,   9.96001000e-01,\n",
        "          4.77650000e-01,   9.17407000e-01,   2.18787000e-01,\n",
        "          3.73090000e-02])}"
       ]
      }
     ],
     "prompt_number": 20
    },
    {
     "cell_type": "code",
     "collapsed": false,
     "input": [
      "select_features(test_data, 'test')"
     ],
     "language": "python",
     "metadata": {},
     "outputs": [
      {
       "metadata": {},
       "output_type": "pyout",
       "prompt_number": 21,
       "text": [
        "{'features': array(['feat_001', 'feat_005', 'feat_006', 'feat_007', 'feat_025',\n",
        "        'feat_037', 'feat_044', 'feat_068', 'feat_069', 'feat_072',\n",
        "        'feat_087', 'feat_090', 'feat_102', 'feat_119', 'feat_123',\n",
        "        'feat_126', 'feat_132', 'feat_173', 'feat_176', 'feat_187',\n",
        "        'feat_196', 'feat_199', 'feat_200', 'feat_208', 'feat_218',\n",
        "        'feat_225', 'feat_226', 'feat_243', 'feat_248', 'feat_251',\n",
        "        'feat_252'], dtype=object),\n",
        " 'means': array([  6.41408345e-01,   9.99981801e-01,   4.77036749e-01,\n",
        "          9.75662133e-01,   3.86077915e-01,   3.57792121e-01,\n",
        "          4.95492763e-03,   6.21228298e-01,   3.54706817e-01,\n",
        "          7.69440569e-01,   1.39202650e-01,   8.00343351e-01,\n",
        "          2.90680999e-01,   2.91116557e-01,   3.01222960e-01,\n",
        "          9.33797605e-01,   9.75614816e-01,   4.36582022e-01,\n",
        "          3.49065188e-02,   1.55930990e-01,   1.50589035e-02,\n",
        "          7.49790714e-04,   7.49790714e-04,   3.94513667e-02,\n",
        "          2.90680999e-01,   3.34580154e-01,   9.95935600e-01,\n",
        "          4.77036749e-01,   9.17441733e-01,   2.19202164e-01,\n",
        "          3.75125875e-02])}"
       ]
      }
     ],
     "prompt_number": 21
    },
    {
     "cell_type": "markdown",
     "metadata": {},
     "source": [
      "## 3. Models\n",
      "\n",
      "### 3.0. Preliminaries"
     ]
    },
    {
     "cell_type": "code",
     "collapsed": false,
     "input": [
      "import sklearn"
     ],
     "language": "python",
     "metadata": {},
     "outputs": [],
     "prompt_number": 22
    },
    {
     "cell_type": "code",
     "collapsed": false,
     "input": [
      "# computes rms given target values and predicted y values \n",
      "def get_rms(Y, Y_predict):\n",
      "    return np.sqrt(np.sum((Y - Y_predict)**2)/len(Y))"
     ],
     "language": "python",
     "metadata": {},
     "outputs": [],
     "prompt_number": 23
    },
    {
     "cell_type": "code",
     "collapsed": false,
     "input": [
      "# columns with nonzero means\n",
      "selected_features = select_features(train_data)['features']"
     ],
     "language": "python",
     "metadata": {},
     "outputs": [],
     "prompt_number": 24
    },
    {
     "cell_type": "code",
     "collapsed": false,
     "input": [
      "# design matrix and target values with desired features\n",
      "X = train_data[selected_features]\n",
      "Y = train_data['gap']"
     ],
     "language": "python",
     "metadata": {},
     "outputs": [],
     "prompt_number": 25
    },
    {
     "cell_type": "code",
     "collapsed": false,
     "input": [
      "# design matrix of molecules we are trying to predict\n",
      "X_new = test_data[selected_features]"
     ],
     "language": "python",
     "metadata": {},
     "outputs": [],
     "prompt_number": 26
    },
    {
     "cell_type": "markdown",
     "metadata": {},
     "source": [
      "### 3.1. Lasso regression"
     ]
    },
    {
     "cell_type": "markdown",
     "metadata": {},
     "source": [
      "We use a simple Lasso model with a small parameter $\\alpha$ to fit the data."
     ]
    },
    {
     "cell_type": "code",
     "collapsed": false,
     "input": [
      "from sklearn import linear_model\n",
      "clf = linear_model.Lasso(alpha = 0.00001).fit(X, Y)\n",
      "print clf.coef_\n",
      "print clf.intercept_\n",
      "print get_rms(Y, clf.predict(X))"
     ],
     "language": "python",
     "metadata": {},
     "outputs": [
      {
       "output_type": "stream",
       "stream": "stdout",
       "text": [
        "[  2.27953599e-02   0.00000000e+00   0.00000000e+00   8.89320704e-02\n",
        "  -6.07953817e-02   2.17459782e-01   3.24778788e-01  -2.20820595e-01\n",
        "  -2.80458167e-01  -1.81717320e-02  -6.17712608e-02  -9.40810675e-02\n",
        "  -3.46007723e-01  -4.31258810e-01  -2.99107008e-02   1.85447702e-02\n",
        "   0.00000000e+00   3.87549190e-02  -2.08739795e-02  -6.60361681e-02\n",
        "  -3.09296372e-01   1.42104606e-01   3.59598088e-17   1.89511490e-01\n",
        "  -4.74152720e-02  -1.37127148e-01   1.39764128e-01   1.37500290e-02\n",
        "  -7.15130398e-02  -3.17385174e-01  -7.33365699e-02]\n",
        "2.35390164881\n",
        "0.298926836337"
       ]
      },
      {
       "output_type": "stream",
       "stream": "stdout",
       "text": [
        "\n"
       ]
      }
     ],
     "prompt_number": 27
    },
    {
     "cell_type": "code",
     "collapsed": false,
     "input": [
      "Y_new = clf.predict(X_new)"
     ],
     "language": "python",
     "metadata": {},
     "outputs": [],
     "prompt_number": 28
    },
    {
     "cell_type": "code",
     "collapsed": false,
     "input": [
      "test_pred = pd.DataFrame.from_dict({'Id':test_data['Id'].values, 'Prediction':Y_new})\n",
      "test_pred.to_csv(\"Lasso_31features.csv\", index = False)"
     ],
     "language": "python",
     "metadata": {},
     "outputs": [],
     "prompt_number": 29
    },
    {
     "cell_type": "markdown",
     "metadata": {},
     "source": [
      "#### This model was submitted to Kaggle. The score obtained was: 0.29846."
     ]
    },
    {
     "cell_type": "markdown",
     "metadata": {},
     "source": [
      "We would now like to fix the value of the parameter alpha in the Lasso regression using cross-validation."
     ]
    },
    {
     "cell_type": "code",
     "collapsed": false,
     "input": [
      "from sklearn import cross_validation\n",
      "X_train, X_test, Y_train, Y_test = cross_validation.train_test_split(X, Y, test_size=0.4,random_state=42)"
     ],
     "language": "python",
     "metadata": {},
     "outputs": [],
     "prompt_number": 30
    },
    {
     "cell_type": "code",
     "collapsed": false,
     "input": [
      "alphas = np.exp(np.arange(-12,0,0.5))"
     ],
     "language": "python",
     "metadata": {},
     "outputs": [],
     "prompt_number": 31
    },
    {
     "cell_type": "code",
     "collapsed": false,
     "input": [
      "train_rms = []\n",
      "test_rms = [] \n",
      "for alpha in alphas:\n",
      "    clf = linear_model.Lasso(alpha = alpha).fit(X_train, Y_train)\n",
      "    train_rms.append(get_rms(Y_train, clf.predict(X_train)))\n",
      "    test_rms.append(get_rms(Y_test, clf.predict(X_test)))"
     ],
     "language": "python",
     "metadata": {},
     "outputs": [],
     "prompt_number": 32
    },
    {
     "cell_type": "code",
     "collapsed": false,
     "input": [
      "plt.plot(np.log(alphas), train_rms, color = 'black')\n",
      "plt.xlabel(\"log(alpha)\")\n",
      "plt.ylabel('Train RMS')\n",
      "plt.show()"
     ],
     "language": "python",
     "metadata": {},
     "outputs": [
      {
       "metadata": {},
       "output_type": "display_data",
       "png": "[encoded data removed]",
       "text": [
        "<matplotlib.figure.Figure at 0x15834be10>"
       ]
      }
     ],
     "prompt_number": 33
    },
    {
     "cell_type": "code",
     "collapsed": false,
     "input": [
      "plt.plot(np.log(alphas), test_rms, color = 'red')\n",
      "plt.xlabel('log(alpha)')\n",
      "plt.ylabel('Test RMS')\n",
      "plt.show()"
     ],
     "language": "python",
     "metadata": {},
     "outputs": [
      {
       "metadata": {},
       "output_type": "display_data",
       "png": "[encoded data removed]",
       "text": [
        "<matplotlib.figure.Figure at 0x10c420cd0>"
       ]
      }
     ],
     "prompt_number": 34
    },
    {
     "cell_type": "markdown",
     "metadata": {},
     "source": [
      "Therefore, the optimal $\\alpha$ is given by $\\alpha = e^{-9}=0.0001$"
     ]
    },
    {
     "cell_type": "code",
     "collapsed": false,
     "input": [
      "from sklearn import linear_model\n",
      "clf = linear_model.Lasso(alpha = 0.0001).fit(X, Y)\n",
      "print clf.coef_\n",
      "print clf.intercept_\n",
      "print get_rms(Y, clf.predict(X))"
     ],
     "language": "python",
     "metadata": {},
     "outputs": [
      {
       "output_type": "stream",
       "stream": "stdout",
       "text": [
        "[  2.18953516e-02   0.00000000e+00   0.00000000e+00   8.17537319e-02\n",
        "  -6.43787965e-02   1.40266966e-01   3.03896036e-01  -2.19047789e-01\n",
        "  -2.00436838e-01  -1.72967376e-02  -5.94883692e-02  -9.24134536e-02\n",
        "  -3.41339149e-01  -4.29909076e-01  -2.71072637e-02   1.76512941e-02\n",
        "   0.00000000e+00   3.46871428e-02  -1.52621872e-02  -6.75146719e-02\n",
        "  -2.87857857e-01   2.86355677e-02   1.79799044e-17   1.87367081e-01\n",
        "  -4.75090581e-02  -1.33612611e-01   1.20878626e-01   8.47688334e-03\n",
        "  -6.82265866e-02  -3.11149599e-01  -6.78318783e-02]\n",
        "2.37427261268\n",
        "0.298998210904"
       ]
      },
      {
       "output_type": "stream",
       "stream": "stdout",
       "text": [
        "\n"
       ]
      }
     ],
     "prompt_number": 35
    },
    {
     "cell_type": "markdown",
     "metadata": {},
     "source": [
      "### 3.2. Ridge Regression\n",
      "\n",
      "Quick Ridge regression with very small $\\lambda$ parameter"
     ]
    },
    {
     "cell_type": "code",
     "collapsed": false,
     "input": [
      "X_train, X_test, Y_train, Y_test = cross_validation.train_test_split(X, Y, test_size=0.4,random_state=42)"
     ],
     "language": "python",
     "metadata": {},
     "outputs": [],
     "prompt_number": 36
    },
    {
     "cell_type": "code",
     "collapsed": false,
     "input": [
      "clf = linear_model.Ridge(alpha = 0.0000001).fit(X, Y)\n",
      "print clf.coef_\n",
      "print clf.intercept_\n",
      "print 'RMS', get_rms(Y, clf.predict(X))"
     ],
     "language": "python",
     "metadata": {},
     "outputs": [
      {
       "output_type": "stream",
       "stream": "stdout",
       "text": [
        "[ 0.02296091  0.18369857  0.00713627  0.24925714 -0.06039279  0.22595745\n",
        "  0.32707313 -0.22102416 -0.28925113 -0.01825094 -0.0620262  -0.09428483\n",
        " -0.19710418 -0.43140731 -0.03021045  0.01864586 -0.15966498  0.0391485\n",
        " -0.02151436 -0.0658916  -0.31154267  0.07289797  0.07289783  0.18975267\n",
        " -0.19688719 -0.13751315  0.1412747   0.00718356 -0.07185333 -0.31810435\n",
        " -0.07393215]\n",
        "2.16864398248\n",
        "RMS "
       ]
      },
      {
       "output_type": "stream",
       "stream": "stdout",
       "text": [
        "0.298923613038\n"
       ]
      }
     ],
     "prompt_number": 37
    },
    {
     "cell_type": "code",
     "collapsed": false,
     "input": [
      "train_rms = []\n",
      "test_rms = [] \n",
      "alphas = np.exp(np.arange(-5, 7, 0.5))\n",
      "for alpha in alphas:\n",
      "    clf = linear_model.Ridge(alpha = alpha).fit(X_train, Y_train)\n",
      "    train_rms.append(get_rms(Y_train, clf.predict(X_train)))\n",
      "    test_rms.append(get_rms(Y_test, clf.predict(X_test)))"
     ],
     "language": "python",
     "metadata": {},
     "outputs": [],
     "prompt_number": 38
    },
    {
     "cell_type": "code",
     "collapsed": false,
     "input": [
      "plt.plot(np.log(alphas), train_rms, color = 'black')\n",
      "plt.xlabel('log(lambda)')\n",
      "plt.ylabel('Train RMS')\n",
      "plt.show()"
     ],
     "language": "python",
     "metadata": {},
     "outputs": [
      {
       "metadata": {},
       "output_type": "display_data",
       "png": "[encoded data removed]",
       "text": [
        "<matplotlib.figure.Figure at 0x109e6d790>"
       ]
      }
     ],
     "prompt_number": 39
    },
    {
     "cell_type": "code",
     "collapsed": false,
     "input": [
      "plt.plot(np.log(alphas), test_rms, color = 'red')\n",
      "plt.xlabel('log(lambda)')\n",
      "plt.ylabel('Test RMS')\n",
      "plt.show()"
     ],
     "language": "python",
     "metadata": {},
     "outputs": [
      {
       "metadata": {},
       "output_type": "display_data",
       "png": "[encoded data removed]",
       "text": [
        "<matplotlib.figure.Figure at 0x10d11bd90>"
       ]
      }
     ],
     "prompt_number": 40
    },
    {
     "cell_type": "code",
     "collapsed": false,
     "input": [
      "clf = linear_model.RidgeCV(alphas=alphas)\n",
      "clf.fit(X,Y)       \n",
      "print clf.alpha_ \n",
      "print np.log(clf.alpha_)"
     ],
     "language": "python",
     "metadata": {},
     "outputs": [
      {
       "output_type": "stream",
       "stream": "stdout",
       "text": [
        "2.71828182846\n",
        "1.0\n"
       ]
      }
     ],
     "prompt_number": 41
    },
    {
     "cell_type": "code",
     "collapsed": false,
     "input": [
      "clf = linear_model.Ridge(alpha = 2.71).fit(X, Y)\n",
      "Y_new = clf.predict(X_new)\n",
      "test_pred = pd.DataFrame.from_dict({'Id':test_data['Id'].values, 'Prediction':Y_new})\n",
      "test_pred.to_csv(\"Ridge_31features.csv\", index = False)"
     ],
     "language": "python",
     "metadata": {},
     "outputs": [],
     "prompt_number": 42
    },
    {
     "cell_type": "markdown",
     "metadata": {},
     "source": [
      "#### This model was submitted to Kaggle. The score was: 0.29845. "
     ]
    },
    {
     "cell_type": "code",
     "collapsed": false,
     "input": [
      "get_rms(Y_train, clf.predict(X_train))"
     ],
     "language": "python",
     "metadata": {},
     "outputs": [
      {
       "metadata": {},
       "output_type": "pyout",
       "prompt_number": 43,
       "text": [
        "0.29869903773022799"
       ]
      }
     ],
     "prompt_number": 43
    },
    {
     "cell_type": "markdown",
     "metadata": {},
     "source": [
      "### 3.3. Random Forest Regressor\n",
      "\n",
      "Crossvalidation"
     ]
    },
    {
     "cell_type": "code",
     "collapsed": false,
     "input": [
      "from sklearn.ensemble import RandomForestRegressor"
     ],
     "language": "python",
     "metadata": {},
     "outputs": [],
     "prompt_number": 44
    },
    {
     "cell_type": "code",
     "collapsed": false,
     "input": [
      "X_train, X_test, Y_train, Y_test = cross_validation.train_test_split(X, Y, test_size=0.4, random_state=42)"
     ],
     "language": "python",
     "metadata": {},
     "outputs": [],
     "prompt_number": 45
    },
    {
     "cell_type": "code",
     "collapsed": false,
     "input": [
      "clf = RandomForestRegressor(n_estimators = 10)\n",
      "clf = clf.fit(X_train, Y_train)"
     ],
     "language": "python",
     "metadata": {},
     "outputs": [],
     "prompt_number": 46
    },
    {
     "cell_type": "code",
     "collapsed": false,
     "input": [
      "print get_rms(Y_train, clf.predict(X_train))\n",
      "print get_rms(Y_test, clf.predict(X_test))"
     ],
     "language": "python",
     "metadata": {},
     "outputs": [
      {
       "output_type": "stream",
       "stream": "stdout",
       "text": [
        "0.271515970546\n",
        "0.273014616549"
       ]
      },
      {
       "output_type": "stream",
       "stream": "stdout",
       "text": [
        "\n"
       ]
      }
     ],
     "prompt_number": 47
    },
    {
     "cell_type": "markdown",
     "metadata": {},
     "source": [
      "Train on the full dataset"
     ]
    },
    {
     "cell_type": "code",
     "collapsed": false,
     "input": [
      "clf = RandomForestRegressor(n_estimators = 10)\n",
      "clf = clf.fit(X, Y)"
     ],
     "language": "python",
     "metadata": {},
     "outputs": [],
     "prompt_number": 48
    },
    {
     "cell_type": "code",
     "collapsed": false,
     "input": [
      "Y_new = clf.predict(X_new)\n",
      "test_pred = pd.DataFrame.from_dict({'Id':test_data['Id'].values, 'Prediction':Y_new})\n",
      "test_pred.to_csv(\"RandomForestRegressor.csv\", index = False)"
     ],
     "language": "python",
     "metadata": {},
     "outputs": [],
     "prompt_number": 49
    },
    {
     "cell_type": "markdown",
     "metadata": {},
     "source": [
      "#### This model was submitted to Kaggle and obtained a score: 0.27208"
     ]
    },
    {
     "cell_type": "markdown",
     "metadata": {},
     "source": [
      "We can further tweak the number of estimators:"
     ]
    },
    {
     "cell_type": "code",
     "collapsed": false,
     "input": [
      "clf = RandomForestRegressor(n_estimators = 15)\n",
      "clf = clf.fit(X_train, Y_train)"
     ],
     "language": "python",
     "metadata": {},
     "outputs": [],
     "prompt_number": 92
    },
    {
     "cell_type": "code",
     "collapsed": false,
     "input": [
      "print get_rms(Y_train, clf.predict(X_train))\n",
      "print get_rms(Y_test, clf.predict(X_test))"
     ],
     "language": "python",
     "metadata": {},
     "outputs": [
      {
       "output_type": "stream",
       "stream": "stdout",
       "text": [
        "0.27149753437\n",
        "0.27298694158"
       ]
      },
      {
       "output_type": "stream",
       "stream": "stdout",
       "text": [
        "\n"
       ]
      }
     ],
     "prompt_number": 93
    },
    {
     "cell_type": "markdown",
     "metadata": {},
     "source": [
      "The increase in the number of estimators led to an increase in the test RMS by 0.00003 $\\Rightarrow$ not significant enough."
     ]
    },
    {
     "cell_type": "markdown",
     "metadata": {},
     "source": [
      "## TESTING AREA"
     ]
    },
    {
     "cell_type": "code",
     "collapsed": false,
     "input": [
      "selected_features"
     ],
     "language": "python",
     "metadata": {},
     "outputs": [
      {
       "metadata": {},
       "output_type": "pyout",
       "prompt_number": 50,
       "text": [
        "array(['feat_001', 'feat_005', 'feat_006', 'feat_007', 'feat_025',\n",
        "       'feat_037', 'feat_044', 'feat_068', 'feat_069', 'feat_072',\n",
        "       'feat_087', 'feat_090', 'feat_102', 'feat_119', 'feat_123',\n",
        "       'feat_126', 'feat_132', 'feat_173', 'feat_176', 'feat_187',\n",
        "       'feat_196', 'feat_199', 'feat_200', 'feat_208', 'feat_218',\n",
        "       'feat_225', 'feat_226', 'feat_243', 'feat_248', 'feat_251',\n",
        "       'feat_252'], dtype=object)"
       ]
      }
     ],
     "prompt_number": 50
    },
    {
     "cell_type": "code",
     "collapsed": false,
     "input": [
      "clf.feature_importances_"
     ],
     "language": "python",
     "metadata": {},
     "outputs": [
      {
       "metadata": {},
       "output_type": "pyout",
       "prompt_number": 51,
       "text": [
        "array([  4.32370924e-03,   1.64627519e-07,   6.27027071e-03,\n",
        "         5.66064334e-04,   3.17290957e-01,   3.48291113e-03,\n",
        "         3.44455133e-03,   7.80301296e-02,   2.86721987e-03,\n",
        "         2.21551414e-02,   9.99297209e-03,   2.01326048e-02,\n",
        "         1.87763321e-02,   3.03835240e-01,   1.83663609e-02,\n",
        "         1.95490276e-02,   8.13799232e-04,   1.99269814e-02,\n",
        "         3.09376431e-03,   1.49897511e-02,   6.10334193e-03,\n",
        "         3.42048797e-04,   3.42669471e-04,   2.26195950e-02,\n",
        "         1.03546582e-02,   3.79268240e-02,   1.60382341e-03,\n",
        "         7.95637488e-03,   8.23475943e-03,   2.99452233e-02,\n",
        "         6.66272893e-03])"
       ]
      }
     ],
     "prompt_number": 51
    },
    {
     "cell_type": "code",
     "collapsed": false,
     "input": [
      "feat_importance = pd.DataFrame.from_dict({'Feature':selected_features, 'Importance':clf.feature_importances_})"
     ],
     "language": "python",
     "metadata": {},
     "outputs": [],
     "prompt_number": 52
    },
    {
     "cell_type": "code",
     "collapsed": false,
     "input": [
      "feat_importance.head()"
     ],
     "language": "python",
     "metadata": {},
     "outputs": [
      {
       "html": [
        "<div style=\"max-height:1000px;max-width:1500px;overflow:auto;\">\n",
        "<table border=\"1\" class=\"dataframe\">\n",
        "  <thead>\n",
        "    <tr style=\"text-align: right;\">\n",
        "      <th></th>\n",
        "      <th>Feature</th>\n",
        "      <th>Importance</th>\n",
        "    </tr>\n",
        "  </thead>\n",
        "  <tbody>\n",
        "    <tr>\n",
        "      <th>0</th>\n",
        "      <td> feat_001</td>\n",
        "      <td> 0.004324</td>\n",
        "    </tr>\n",
        "    <tr>\n",
        "      <th>1</th>\n",
        "      <td> feat_005</td>\n",
        "      <td> 0.000000</td>\n",
        "    </tr>\n",
        "    <tr>\n",
        "      <th>2</th>\n",
        "      <td> feat_006</td>\n",
        "      <td> 0.006270</td>\n",
        "    </tr>\n",
        "    <tr>\n",
        "      <th>3</th>\n",
        "      <td> feat_007</td>\n",
        "      <td> 0.000566</td>\n",
        "    </tr>\n",
        "    <tr>\n",
        "      <th>4</th>\n",
        "      <td> feat_025</td>\n",
        "      <td> 0.317291</td>\n",
        "    </tr>\n",
        "  </tbody>\n",
        "</table>\n",
        "</div>"
       ],
       "metadata": {},
       "output_type": "pyout",
       "prompt_number": 53,
       "text": [
        "    Feature  Importance\n",
        "0  feat_001    0.004324\n",
        "1  feat_005    0.000000\n",
        "2  feat_006    0.006270\n",
        "3  feat_007    0.000566\n",
        "4  feat_025    0.317291"
       ]
      }
     ],
     "prompt_number": 53
    },
    {
     "cell_type": "code",
     "collapsed": false,
     "input": [
      "feat_importance.sort(columns = 'Importance', ascending = False)"
     ],
     "language": "python",
     "metadata": {},
     "outputs": [
      {
       "html": [
        "<div style=\"max-height:1000px;max-width:1500px;overflow:auto;\">\n",
        "<table border=\"1\" class=\"dataframe\">\n",
        "  <thead>\n",
        "    <tr style=\"text-align: right;\">\n",
        "      <th></th>\n",
        "      <th>Feature</th>\n",
        "      <th>Importance</th>\n",
        "    </tr>\n",
        "  </thead>\n",
        "  <tbody>\n",
        "    <tr>\n",
        "      <th>4 </th>\n",
        "      <td> feat_025</td>\n",
        "      <td> 0.317291</td>\n",
        "    </tr>\n",
        "    <tr>\n",
        "      <th>13</th>\n",
        "      <td> feat_119</td>\n",
        "      <td> 0.303835</td>\n",
        "    </tr>\n",
        "    <tr>\n",
        "      <th>7 </th>\n",
        "      <td> feat_068</td>\n",
        "      <td> 0.078030</td>\n",
        "    </tr>\n",
        "    <tr>\n",
        "      <th>25</th>\n",
        "      <td> feat_225</td>\n",
        "      <td> 0.037927</td>\n",
        "    </tr>\n",
        "    <tr>\n",
        "      <th>29</th>\n",
        "      <td> feat_251</td>\n",
        "      <td> 0.029945</td>\n",
        "    </tr>\n",
        "    <tr>\n",
        "      <th>23</th>\n",
        "      <td> feat_208</td>\n",
        "      <td> 0.022620</td>\n",
        "    </tr>\n",
        "    <tr>\n",
        "      <th>9 </th>\n",
        "      <td> feat_072</td>\n",
        "      <td> 0.022155</td>\n",
        "    </tr>\n",
        "    <tr>\n",
        "      <th>11</th>\n",
        "      <td> feat_090</td>\n",
        "      <td> 0.020133</td>\n",
        "    </tr>\n",
        "    <tr>\n",
        "      <th>17</th>\n",
        "      <td> feat_173</td>\n",
        "      <td> 0.019927</td>\n",
        "    </tr>\n",
        "    <tr>\n",
        "      <th>15</th>\n",
        "      <td> feat_126</td>\n",
        "      <td> 0.019549</td>\n",
        "    </tr>\n",
        "    <tr>\n",
        "      <th>12</th>\n",
        "      <td> feat_102</td>\n",
        "      <td> 0.018776</td>\n",
        "    </tr>\n",
        "    <tr>\n",
        "      <th>14</th>\n",
        "      <td> feat_123</td>\n",
        "      <td> 0.018366</td>\n",
        "    </tr>\n",
        "    <tr>\n",
        "      <th>19</th>\n",
        "      <td> feat_187</td>\n",
        "      <td> 0.014990</td>\n",
        "    </tr>\n",
        "    <tr>\n",
        "      <th>24</th>\n",
        "      <td> feat_218</td>\n",
        "      <td> 0.010355</td>\n",
        "    </tr>\n",
        "    <tr>\n",
        "      <th>10</th>\n",
        "      <td> feat_087</td>\n",
        "      <td> 0.009993</td>\n",
        "    </tr>\n",
        "    <tr>\n",
        "      <th>28</th>\n",
        "      <td> feat_248</td>\n",
        "      <td> 0.008235</td>\n",
        "    </tr>\n",
        "    <tr>\n",
        "      <th>27</th>\n",
        "      <td> feat_243</td>\n",
        "      <td> 0.007956</td>\n",
        "    </tr>\n",
        "    <tr>\n",
        "      <th>30</th>\n",
        "      <td> feat_252</td>\n",
        "      <td> 0.006663</td>\n",
        "    </tr>\n",
        "    <tr>\n",
        "      <th>2 </th>\n",
        "      <td> feat_006</td>\n",
        "      <td> 0.006270</td>\n",
        "    </tr>\n",
        "    <tr>\n",
        "      <th>20</th>\n",
        "      <td> feat_196</td>\n",
        "      <td> 0.006103</td>\n",
        "    </tr>\n",
        "    <tr>\n",
        "      <th>0 </th>\n",
        "      <td> feat_001</td>\n",
        "      <td> 0.004324</td>\n",
        "    </tr>\n",
        "    <tr>\n",
        "      <th>5 </th>\n",
        "      <td> feat_037</td>\n",
        "      <td> 0.003483</td>\n",
        "    </tr>\n",
        "    <tr>\n",
        "      <th>6 </th>\n",
        "      <td> feat_044</td>\n",
        "      <td> 0.003445</td>\n",
        "    </tr>\n",
        "    <tr>\n",
        "      <th>18</th>\n",
        "      <td> feat_176</td>\n",
        "      <td> 0.003094</td>\n",
        "    </tr>\n",
        "    <tr>\n",
        "      <th>8 </th>\n",
        "      <td> feat_069</td>\n",
        "      <td> 0.002867</td>\n",
        "    </tr>\n",
        "    <tr>\n",
        "      <th>26</th>\n",
        "      <td> feat_226</td>\n",
        "      <td> 0.001604</td>\n",
        "    </tr>\n",
        "    <tr>\n",
        "      <th>16</th>\n",
        "      <td> feat_132</td>\n",
        "      <td> 0.000814</td>\n",
        "    </tr>\n",
        "    <tr>\n",
        "      <th>3 </th>\n",
        "      <td> feat_007</td>\n",
        "      <td> 0.000566</td>\n",
        "    </tr>\n",
        "    <tr>\n",
        "      <th>22</th>\n",
        "      <td> feat_200</td>\n",
        "      <td> 0.000343</td>\n",
        "    </tr>\n",
        "    <tr>\n",
        "      <th>21</th>\n",
        "      <td> feat_199</td>\n",
        "      <td> 0.000342</td>\n",
        "    </tr>\n",
        "    <tr>\n",
        "      <th>1 </th>\n",
        "      <td> feat_005</td>\n",
        "      <td> 0.000000</td>\n",
        "    </tr>\n",
        "  </tbody>\n",
        "</table>\n",
        "</div>"
       ],
       "metadata": {},
       "output_type": "pyout",
       "prompt_number": 54,
       "text": [
        "     Feature  Importance\n",
        "4   feat_025    0.317291\n",
        "13  feat_119    0.303835\n",
        "7   feat_068    0.078030\n",
        "25  feat_225    0.037927\n",
        "29  feat_251    0.029945\n",
        "23  feat_208    0.022620\n",
        "9   feat_072    0.022155\n",
        "11  feat_090    0.020133\n",
        "17  feat_173    0.019927\n",
        "15  feat_126    0.019549\n",
        "12  feat_102    0.018776\n",
        "14  feat_123    0.018366\n",
        "19  feat_187    0.014990\n",
        "24  feat_218    0.010355\n",
        "10  feat_087    0.009993\n",
        "28  feat_248    0.008235\n",
        "27  feat_243    0.007956\n",
        "30  feat_252    0.006663\n",
        "2   feat_006    0.006270\n",
        "20  feat_196    0.006103\n",
        "0   feat_001    0.004324\n",
        "5   feat_037    0.003483\n",
        "6   feat_044    0.003445\n",
        "18  feat_176    0.003094\n",
        "8   feat_069    0.002867\n",
        "26  feat_226    0.001604\n",
        "16  feat_132    0.000814\n",
        "3   feat_007    0.000566\n",
        "22  feat_200    0.000343\n",
        "21  feat_199    0.000342\n",
        "1   feat_005    0.000000"
       ]
      }
     ],
     "prompt_number": 54
    },
    {
     "cell_type": "markdown",
     "metadata": {},
     "source": [
      "Note that the features of least importance are exactly the features with very low or very high frequency in the dataset. "
     ]
    },
    {
     "cell_type": "code",
     "collapsed": false,
     "input": [
      "#polynomial features with interactions "
     ],
     "language": "python",
     "metadata": {},
     "outputs": [],
     "prompt_number": 55
    },
    {
     "cell_type": "code",
     "collapsed": false,
     "input": [
      "X.values.shape"
     ],
     "language": "python",
     "metadata": {},
     "outputs": [
      {
       "metadata": {},
       "output_type": "pyout",
       "prompt_number": 125,
       "text": [
        "(31, 1000000)"
       ]
      }
     ],
     "prompt_number": 125
    },
    {
     "cell_type": "code",
     "collapsed": false,
     "input": [
      "m = X.values"
     ],
     "language": "python",
     "metadata": {},
     "outputs": [],
     "prompt_number": 167
    },
    {
     "cell_type": "code",
     "collapsed": false,
     "input": [
      "imax = m.shape[1]\n",
      "for i in range(imax):\n",
      "    print i\n",
      "    for j in range(i+1, imax):\n",
      "        a = (m[:,i]*m[:,j])[np.newaxis]\n",
      "        m = np.hstack((m, a.T))"
     ],
     "language": "python",
     "metadata": {},
     "outputs": [
      {
       "output_type": "stream",
       "stream": "stdout",
       "text": [
        "0\n",
        "1"
       ]
      },
      {
       "output_type": "stream",
       "stream": "stdout",
       "text": [
        "\n",
        "2"
       ]
      },
      {
       "output_type": "stream",
       "stream": "stdout",
       "text": [
        "\n",
        "3"
       ]
      },
      {
       "output_type": "stream",
       "stream": "stdout",
       "text": [
        "\n",
        "4"
       ]
      },
      {
       "output_type": "stream",
       "stream": "stdout",
       "text": [
        "\n",
        "5"
       ]
      },
      {
       "output_type": "stream",
       "stream": "stdout",
       "text": [
        "\n",
        "6"
       ]
      },
      {
       "output_type": "stream",
       "stream": "stdout",
       "text": [
        "\n",
        "7"
       ]
      },
      {
       "output_type": "stream",
       "stream": "stdout",
       "text": [
        "\n",
        "8"
       ]
      },
      {
       "output_type": "stream",
       "stream": "stdout",
       "text": [
        "\n",
        "9"
       ]
      },
      {
       "output_type": "stream",
       "stream": "stdout",
       "text": [
        "\n",
        "10"
       ]
      },
      {
       "output_type": "stream",
       "stream": "stdout",
       "text": [
        "\n",
        "11"
       ]
      },
      {
       "output_type": "stream",
       "stream": "stdout",
       "text": [
        "\n",
        "12"
       ]
      },
      {
       "output_type": "stream",
       "stream": "stdout",
       "text": [
        "\n",
        "13"
       ]
      },
      {
       "output_type": "stream",
       "stream": "stdout",
       "text": [
        "\n",
        "14"
       ]
      },
      {
       "output_type": "stream",
       "stream": "stdout",
       "text": [
        "\n",
        "15"
       ]
      },
      {
       "output_type": "stream",
       "stream": "stdout",
       "text": [
        "\n",
        "16"
       ]
      },
      {
       "output_type": "stream",
       "stream": "stdout",
       "text": [
        "\n",
        "17"
       ]
      },
      {
       "output_type": "stream",
       "stream": "stdout",
       "text": [
        "\n",
        "18"
       ]
      },
      {
       "output_type": "stream",
       "stream": "stdout",
       "text": [
        "\n",
        "19"
       ]
      },
      {
       "output_type": "stream",
       "stream": "stdout",
       "text": [
        "\n",
        "20"
       ]
      },
      {
       "output_type": "stream",
       "stream": "stdout",
       "text": [
        "\n",
        "21"
       ]
      },
      {
       "output_type": "stream",
       "stream": "stdout",
       "text": [
        "\n",
        "22"
       ]
      },
      {
       "output_type": "stream",
       "stream": "stdout",
       "text": [
        "\n",
        "23"
       ]
      },
      {
       "output_type": "stream",
       "stream": "stdout",
       "text": [
        "\n",
        "24"
       ]
      },
      {
       "output_type": "stream",
       "stream": "stdout",
       "text": [
        "\n",
        "25"
       ]
      },
      {
       "output_type": "stream",
       "stream": "stdout",
       "text": [
        "\n",
        "26"
       ]
      },
      {
       "output_type": "stream",
       "stream": "stdout",
       "text": [
        "\n",
        "27"
       ]
      },
      {
       "output_type": "stream",
       "stream": "stdout",
       "text": [
        "\n",
        "28"
       ]
      },
      {
       "output_type": "stream",
       "stream": "stdout",
       "text": [
        "\n",
        "29"
       ]
      },
      {
       "output_type": "stream",
       "stream": "stdout",
       "text": [
        "\n",
        "30"
       ]
      },
      {
       "output_type": "stream",
       "stream": "stdout",
       "text": [
        "\n"
       ]
      }
     ],
     "prompt_number": 169
    },
    {
     "cell_type": "code",
     "collapsed": false,
     "input": [
      "m.shape"
     ],
     "language": "python",
     "metadata": {},
     "outputs": [
      {
       "metadata": {},
       "output_type": "pyout",
       "prompt_number": 170,
       "text": [
        "(1000000, 496)"
       ]
      }
     ],
     "prompt_number": 170
    },
    {
     "cell_type": "code",
     "collapsed": false,
     "input": [
      "numpy.savetxt(\"polynomial.csv\", m, delimiter=\",\")"
     ],
     "language": "python",
     "metadata": {},
     "outputs": []
    },
    {
     "cell_type": "code",
     "collapsed": false,
     "input": [
      "from sklearn import svm"
     ],
     "language": "python",
     "metadata": {},
     "outputs": [],
     "prompt_number": 55
    },
    {
     "cell_type": "code",
     "collapsed": false,
     "input": [
      "import random\n",
      "# select a subset of 100,000 and run a simple SVM\n",
      "rows = random.sample(X.index, 100000)\n",
      "X_small = X.ix[rows]\n",
      "Y_small = Y.ix[rows]"
     ],
     "language": "python",
     "metadata": {},
     "outputs": [],
     "prompt_number": 56
    },
    {
     "cell_type": "code",
     "collapsed": false,
     "input": [
      "# add length of string to fatures\n",
      "smiles_small = train_data['smiles'][rows].values\n",
      "X_small['str_len'] = [len(smiles_small[i]) for i in range(len(rows))]"
     ],
     "language": "python",
     "metadata": {},
     "outputs": [],
     "prompt_number": 64
    },
    {
     "cell_type": "code",
     "collapsed": false,
     "input": [
      "clf = svm.SVR(C = 100).fit(X_small,Y_small)"
     ],
     "language": "python",
     "metadata": {},
     "outputs": []
    },
    {
     "cell_type": "code",
     "collapsed": false,
     "input": [
      "print get_rms(Y_train, clf.predict(X_train))\n",
      "print get_rms(Y_test, clf.predict(X_test))"
     ],
     "language": "python",
     "metadata": {},
     "outputs": []
    },
    {
     "cell_type": "code",
     "collapsed": false,
     "input": [
      "'''\n",
      "clf = svm.SVR(C = 100).fit(X,Y)\n",
      "'''"
     ],
     "language": "python",
     "metadata": {},
     "outputs": []
    },
    {
     "cell_type": "code",
     "collapsed": false,
     "input": [
      "'''\n",
      "Y_new = clf.predict(X_new)\n",
      "test_pred = pd.DataFrame.from_dict({'Id':test_data['Id'].values, 'Prediction':Y_new})\n",
      "test_pred.to_csv(\"SVM.csv\", index = False)\n",
      "'''"
     ],
     "language": "python",
     "metadata": {},
     "outputs": []
    },
    {
     "cell_type": "markdown",
     "metadata": {},
     "source": [
      "Add the string length to the features and run a random forest regressor on it."
     ]
    },
    {
     "cell_type": "code",
     "collapsed": false,
     "input": [
      "X_plus = X.ix[X.index]\n",
      "smiles = train_data['smiles'].values\n",
      "X_plus['length'] = [len(smiles[i]) for i in range(len(smiles))]"
     ],
     "language": "python",
     "metadata": {},
     "outputs": [],
     "prompt_number": 56
    },
    {
     "cell_type": "code",
     "collapsed": false,
     "input": [
      "X_train, X_test, Y_train, Y_test = cross_validation.train_test_split(X_plus, Y, test_size=0.4, random_state=42)"
     ],
     "language": "python",
     "metadata": {},
     "outputs": [],
     "prompt_number": 57
    },
    {
     "cell_type": "code",
     "collapsed": false,
     "input": [
      "clf = RandomForestRegressor(n_estimators = 10)\n",
      "clf.fit(X_train, Y_train)\n",
      "print \"Train:\", get_rms(Y_train, clf.predict(X_train))\n",
      "print \"Test:\", get_rms(Y_test, clf.predict(X_test))"
     ],
     "language": "python",
     "metadata": {},
     "outputs": [
      {
       "output_type": "stream",
       "stream": "stdout",
       "text": [
        "Train: "
       ]
      },
      {
       "output_type": "stream",
       "stream": "stdout",
       "text": [
        "0.209732784556\n",
        "Test "
       ]
      },
      {
       "output_type": "stream",
       "stream": "stdout",
       "text": [
        "0.218029914836\n"
       ]
      }
     ],
     "prompt_number": 59
    },
    {
     "cell_type": "markdown",
     "metadata": {},
     "source": [
      "Add number of c's, C's, dashes and equals"
     ]
    },
    {
     "cell_type": "code",
     "collapsed": false,
     "input": [
      "X_plus['C_count'] = [s.count('C') for s in smiles]\n",
      "X_plus['c_count'] = [s.count('c') for s in smiles]\n",
      "X_plus['dash'] = [s.count('-') for s in smiles]\n",
      "X_plus['equal'] = [s.count('=') for s in smiles]"
     ],
     "language": "python",
     "metadata": {},
     "outputs": [],
     "prompt_number": 66
    },
    {
     "cell_type": "code",
     "collapsed": false,
     "input": [
      "X_train, X_test, Y_train, Y_test = cross_validation.train_test_split(X_plus, Y, test_size=0.4, random_state=42)"
     ],
     "language": "python",
     "metadata": {},
     "outputs": [],
     "prompt_number": 75
    },
    {
     "cell_type": "code",
     "collapsed": false,
     "input": [
      "clf = RandomForestRegressor(n_estimators = 10)\n",
      "clf.fit(X_train, Y_train)\n",
      "print \"Train:\", get_rms(Y_train, clf.predict(X_train))\n",
      "print \"Test:\", get_rms(Y_test, clf.predict(X_test))"
     ],
     "language": "python",
     "metadata": {},
     "outputs": [
      {
       "output_type": "stream",
       "stream": "stdout",
       "text": [
        "Train: "
       ]
      },
      {
       "output_type": "stream",
       "stream": "stdout",
       "text": [
        "0.150635604317\n",
        "Test: "
       ]
      },
      {
       "output_type": "stream",
       "stream": "stdout",
       "text": [
        "0.169665296754\n"
       ]
      }
     ],
     "prompt_number": 76
    },
    {
     "cell_type": "code",
     "collapsed": false,
     "input": [
      "X_new_plus = test_data[selected_features]\n",
      "new_smiles = test_data['smiles'].values\n",
      "\n",
      "X_new_plus['length'] = [len(new_smiles[i]) for i in range(len(new_smiles))]\n",
      "X_new_plus['C_count'] = [s.count('C') for s in new_smiles]\n",
      "X_new_plus['c_count'] = [s.count('c') for s in new_smiles]\n",
      "X_new_plus['dash'] = [s.count('-') for s in new_smiles]\n",
      "X_new_plus['equal'] = [s.count('=') for s in new_smiles]"
     ],
     "language": "python",
     "metadata": {},
     "outputs": [],
     "prompt_number": 88
    },
    {
     "cell_type": "code",
     "collapsed": false,
     "input": [
      "Y_new = clf.predict(X_new_plus)\n",
      "test_pred = pd.DataFrame.from_dict({'Id':test_data['Id'].values, 'Prediction':Y_new})\n",
      "test_pred.to_csv(\"new_features3.csv\", index = False)"
     ],
     "language": "python",
     "metadata": {},
     "outputs": [],
     "prompt_number": 89
    },
    {
     "cell_type": "code",
     "collapsed": false,
     "input": [],
     "language": "python",
     "metadata": {},
     "outputs": [],
     "prompt_number": 81
    },
    {
     "cell_type": "code",
     "collapsed": false,
     "input": [],
     "language": "python",
     "metadata": {},
     "outputs": []
    }
   ],
   "metadata": {}
  }
 ]
}